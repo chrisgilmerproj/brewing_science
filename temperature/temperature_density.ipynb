{
 "cells": [
  {
   "cell_type": "code",
   "execution_count": 2,
   "metadata": {
    "collapsed": false
   },
   "outputs": [
    {
     "data": {
      "text/plain": [
       "u'0.18.1'"
      ]
     },
     "execution_count": 2,
     "metadata": {},
     "output_type": "execute_result"
    }
   ],
   "source": [
    "import pandas as pd\n",
    "from scipy import optimize\n",
    "import numpy as np\n",
    "import matplotlib.pyplot as plt\n",
    "pd.__version__"
   ]
  },
  {
   "cell_type": "code",
   "execution_count": 3,
   "metadata": {
    "collapsed": false
   },
   "outputs": [],
   "source": [
    "%matplotlib inline"
   ]
  },
  {
   "cell_type": "markdown",
   "metadata": {},
   "source": [
    "http://hbd.org/brewery/library/HydromCorr0992.html\n",
    "\n",
    "Hydrometer Temperature Corrections\n",
    "\n",
    "Posted to HBD #963, 9/7/92, by Christopher Lyons Following up on the specific\n",
    "gravity of water as a function of temperature.... The earlier equation was\n",
    "based on data for 50F-to-105F. Since the equation was from a polynomial fit,\n",
    "it should not be trusted for predicting SG outside this temperature range.\n",
    "The data below was obtained using the \"Handbook of Chemistry and Physics (CRC)\"\n",
    "and is valid for a temperature range between 0 and 212F.\n",
    "    \n",
    "        Temp (C)  Temp (F)  Density  Correction relative to 59F\n",
    "        -------   --------  -------  --------------------------\n",
    "        0          32      0.99987      -0.74\n",
    "        3.98       39.16   1.00000      -0.87\n",
    "        5          41      0.99999      -0.86\n",
    "        10         50      0.99973      -0.6\n",
    "        15         59      0.99913      0\n",
    "        18         64.4    0.99862      0.51\n",
    "        20         68      0.99823      0.9\n",
    "        25         77      0.99707      2.06\n",
    "        30         86      0.99567      3.46\n",
    "        35         95      0.99406      5.07\n",
    "        38         100.4   0.99299      6.14\n",
    "        40         104     0.99224      6.89\n",
    "        45         113     0.99025      8.88\n",
    "        50         122     0.98807      11.06\n",
    "        55         131     0.98573      13.4\n",
    "        60         140     0.98324      15.89\n",
    "        65         149     0.98059      18.54\n",
    "        70         158     0.97781      21.32\n",
    "        75         167     0.97489      24.24\n",
    "        80         176     0.97183      27.3\n",
    "        85         185     0.96865      30.48\n",
    "        90         194     0.96534      33.79\n",
    "        95         203     0.96192      37.21\n",
    "        100        212     0.95838      40.75\n",
    "\n",
    "The correction term was computed relative to 15C (59F). It may be easily\n",
    "calculated relative to any temperature. A third order polynomial fit to\n",
    "this data was also very good (R**2 = 0.999969):\n",
    "\n",
    "        Correction(@59F) =\n",
    "           1.313454 - 0.132674*T + 2.057793e-3*T**2 - 2.627634e-6*T**3\n",
    "\n",
    "                where T is in degrees F.\n",
    "\n",
    "This equation should be good for the entire temperature range of interest"
   ]
  },
  {
   "cell_type": "code",
   "execution_count": 71,
   "metadata": {
    "collapsed": false
   },
   "outputs": [
    {
     "data": {
      "text/html": [
       "<div>\n",
       "<table border=\"1\" class=\"dataframe\">\n",
       "  <thead>\n",
       "    <tr style=\"text-align: right;\">\n",
       "      <th></th>\n",
       "      <th>0</th>\n",
       "      <th>1</th>\n",
       "      <th>2</th>\n",
       "      <th>3</th>\n",
       "    </tr>\n",
       "  </thead>\n",
       "  <tbody>\n",
       "    <tr>\n",
       "      <th>0</th>\n",
       "      <td>0.00</td>\n",
       "      <td>32.00</td>\n",
       "      <td>0.99987</td>\n",
       "      <td>-0.74</td>\n",
       "    </tr>\n",
       "    <tr>\n",
       "      <th>1</th>\n",
       "      <td>3.98</td>\n",
       "      <td>39.16</td>\n",
       "      <td>1.00000</td>\n",
       "      <td>-0.87</td>\n",
       "    </tr>\n",
       "    <tr>\n",
       "      <th>2</th>\n",
       "      <td>5.00</td>\n",
       "      <td>41.00</td>\n",
       "      <td>0.99999</td>\n",
       "      <td>-0.86</td>\n",
       "    </tr>\n",
       "    <tr>\n",
       "      <th>3</th>\n",
       "      <td>10.00</td>\n",
       "      <td>50.00</td>\n",
       "      <td>0.99973</td>\n",
       "      <td>-0.60</td>\n",
       "    </tr>\n",
       "    <tr>\n",
       "      <th>4</th>\n",
       "      <td>15.00</td>\n",
       "      <td>59.00</td>\n",
       "      <td>0.99913</td>\n",
       "      <td>0.00</td>\n",
       "    </tr>\n",
       "  </tbody>\n",
       "</table>\n",
       "</div>"
      ],
      "text/plain": [
       "       0      1        2     3\n",
       "0   0.00  32.00  0.99987 -0.74\n",
       "1   3.98  39.16  1.00000 -0.87\n",
       "2   5.00  41.00  0.99999 -0.86\n",
       "3  10.00  50.00  0.99973 -0.60\n",
       "4  15.00  59.00  0.99913  0.00"
      ]
     },
     "execution_count": 71,
     "metadata": {},
     "output_type": "execute_result"
    }
   ],
   "source": [
    "data=pd.read_csv(\"temp_density.csv\", header=None)\n",
    "data.head()"
   ]
  },
  {
   "cell_type": "code",
   "execution_count": 72,
   "metadata": {
    "collapsed": false
   },
   "outputs": [
    {
     "data": {
      "text/plain": [
       "<matplotlib.axes._subplots.AxesSubplot at 0x109e2cd10>"
      ]
     },
     "execution_count": 72,
     "metadata": {},
     "output_type": "execute_result"
    },
    {
     "data": {
      "image/png": "[encoded data removed]",
      "text/plain": [
       "<matplotlib.figure.Figure at 0x10aa179d0>"
      ]
     },
     "metadata": {},
     "output_type": "display_data"
    }
   ],
   "source": [
    "df = pd.DataFrame(data)\n",
    "df.plot.scatter(x=1, y=2)"
   ]
  },
  {
   "cell_type": "code",
   "execution_count": 82,
   "metadata": {
    "collapsed": false
   },
   "outputs": [],
   "source": [
    "def get_equation(xdata, ydata, order=3):\n",
    "    qout = np.polyfit(xdata, ydata, order)\n",
    "    print(np.poly1d(qout))\n",
    "    return qout"
   ]
  },
  {
   "cell_type": "code",
   "execution_count": 91,
   "metadata": {
    "collapsed": true
   },
   "outputs": [],
   "source": [
    "def graph(xdata, xlim, ydata, ylim, qout):\n",
    "    xp = np.linspace(*xlim, num=1500)\n",
    "    fn = np.poly1d(qout)\n",
    "    pxp = fn(xp)\n",
    "\n",
    "    plt.plot(xdata, ydata, '.', xp, pxp, '-')\n",
    "    plt.xlim(*xlim)\n",
    "    plt.ylim(*ylim)\n",
    "    plt.xlabel('x')\n",
    "    plt.ylabel('y', rotation='horizontal')\n",
    "    plt.grid(True)\n",
    "    plt.show()"
   ]
  },
  {
   "cell_type": "code",
   "execution_count": 92,
   "metadata": {
    "collapsed": false
   },
   "outputs": [
    {
     "name": "stdout",
     "output_type": "stream",
     "text": [
      "           3             2\n",
      "2.628e-09 x - 2.058e-06 x + 0.0001327 x + 0.9978\n"
     ]
    }
   ],
   "source": [
    "xdata = df[1]\n",
    "ydata = df[2]\n",
    "\n",
    "qout = get_equation(xdata, ydata, 3)"
   ]
  },
  {
   "cell_type": "code",
   "execution_count": 93,
   "metadata": {
    "collapsed": false
   },
   "outputs": [
    {
     "data": {
      "image/png": "[encoded data removed]",
      "text/plain": [
       "<matplotlib.figure.Figure at 0x10a416d50>"
      ]
     },
     "metadata": {},
     "output_type": "display_data"
    }
   ],
   "source": [
    "graph(xdata, [0, 212], ydata, [0.9, 1.05], qout)"
   ]
  },
  {
   "cell_type": "code",
   "execution_count": null,
   "metadata": {
    "collapsed": true
   },
   "outputs": [],
   "source": []
  }
 ],
 "metadata": {
  "kernelspec": {
   "display_name": "Python 2",
   "language": "python",
   "name": "python2"
  },
  "language_info": {
   "codemirror_mode": {
    "name": "ipython",
    "version": 2
   },
   "file_extension": ".py",
   "mimetype": "text/x-python",
   "name": "python",
   "nbconvert_exporter": "python",
   "pygments_lexer": "ipython2",
   "version": "2.7.12"
  }
 },
 "nbformat": 4,
 "nbformat_minor": 0
}

{
 "cells": [
  {
   "cell_type": "code",
   "execution_count": 1,
   "metadata": {
    "collapsed": false
   },
   "outputs": [
    {
     "data": {
      "text/plain": [
       "u'0.18.1'"
      ]
     },
     "execution_count": 1,
     "metadata": {},
     "output_type": "execute_result"
    }
   ],
   "source": [
    "import pandas as pd\n",
    "from scipy import optimize\n",
    "import numpy as np\n",
    "import matplotlib.pyplot as plt\n",
    "pd.__version__"
   ]
  },
  {
   "cell_type": "code",
   "execution_count": 2,
   "metadata": {
    "collapsed": false
   },
   "outputs": [],
   "source": [
    "%matplotlib inline"
   ]
  },
  {
   "cell_type": "markdown",
   "metadata": {},
   "source": [
    "http://hbd.org/brewery/library/HydromCorr0992.html\n",
    "\n",
    "Hydrometer Temperature Corrections\n",
    "\n",
    "Posted to HBD #963, 9/7/92, by Christopher Lyons Following up on the specific\n",
    "gravity of water as a function of temperature.... The earlier equation was\n",
    "based on data for 50F-to-105F. Since the equation was from a polynomial fit,\n",
    "it should not be trusted for predicting SG outside this temperature range.\n",
    "The data below was obtained using the \"Handbook of Chemistry and Physics (CRC)\"\n",
    "and is valid for a temperature range between 0 and 212F.\n",
    "    \n",
    "        Temp (C)  Temp (F)  Density  Correction relative to 59F\n",
    "        -------   --------  -------  --------------------------\n",
    "        0          32      0.99987      -0.74\n",
    "        3.98       39.16   1.00000      -0.87\n",
    "        5          41      0.99999      -0.86\n",
    "        10         50      0.99973      -0.6\n",
    "        15         59      0.99913      0\n",
    "        18         64.4    0.99862      0.51\n",
    "        20         68      0.99823      0.9\n",
    "        25         77      0.99707      2.06\n",
    "        30         86      0.99567      3.46\n",
    "        35         95      0.99406      5.07\n",
    "        38         100.4   0.99299      6.14\n",
    "        40         104     0.99224      6.89\n",
    "        45         113     0.99025      8.88\n",
    "        50         122     0.98807      11.06\n",
    "        55         131     0.98573      13.4\n",
    "        60         140     0.98324      15.89\n",
    "        65         149     0.98059      18.54\n",
    "        70         158     0.97781      21.32\n",
    "        75         167     0.97489      24.24\n",
    "        80         176     0.97183      27.3\n",
    "        85         185     0.96865      30.48\n",
    "        90         194     0.96534      33.79\n",
    "        95         203     0.96192      37.21\n",
    "        100        212     0.95838      40.75\n",
    "\n",
    "The correction term was computed relative to 15C (59F). It may be easily\n",
    "calculated relative to any temperature. A third order polynomial fit to\n",
    "this data was also very good (R**2 = 0.999969):\n",
    "\n",
    "        Correction(@59F) =\n",
    "           1.313454 - 0.132674*T + 2.057793e-3*T**2 - 2.627634e-6*T**3\n",
    "\n",
    "                where T is in degrees F.\n",
    "\n",
    "This equation should be good for the entire temperature range of interest"
   ]
  },
  {
   "cell_type": "code",
   "execution_count": 56,
   "metadata": {
    "collapsed": true
   },
   "outputs": [],
   "source": [
    "# Original Coefficients\n",
    "orig = [ -2.627634e-6, 2.057793e-3, -0.132674, 1.313454]"
   ]
  },
  {
   "cell_type": "code",
   "execution_count": 45,
   "metadata": {
    "collapsed": false
   },
   "outputs": [
    {
     "data": {
      "text/html": [
       "<div>\n",
       "<table border=\"1\" class=\"dataframe\">\n",
       "  <thead>\n",
       "    <tr style=\"text-align: right;\">\n",
       "      <th></th>\n",
       "      <th>0</th>\n",
       "      <th>1</th>\n",
       "      <th>2</th>\n",
       "      <th>3</th>\n",
       "    </tr>\n",
       "  </thead>\n",
       "  <tbody>\n",
       "    <tr>\n",
       "      <th>0</th>\n",
       "      <td>0.00</td>\n",
       "      <td>32.00</td>\n",
       "      <td>0.99987</td>\n",
       "      <td>-0.74</td>\n",
       "    </tr>\n",
       "    <tr>\n",
       "      <th>1</th>\n",
       "      <td>3.98</td>\n",
       "      <td>39.16</td>\n",
       "      <td>1.00000</td>\n",
       "      <td>-0.87</td>\n",
       "    </tr>\n",
       "    <tr>\n",
       "      <th>2</th>\n",
       "      <td>5.00</td>\n",
       "      <td>41.00</td>\n",
       "      <td>0.99999</td>\n",
       "      <td>-0.86</td>\n",
       "    </tr>\n",
       "    <tr>\n",
       "      <th>3</th>\n",
       "      <td>10.00</td>\n",
       "      <td>50.00</td>\n",
       "      <td>0.99973</td>\n",
       "      <td>-0.60</td>\n",
       "    </tr>\n",
       "    <tr>\n",
       "      <th>4</th>\n",
       "      <td>15.00</td>\n",
       "      <td>59.00</td>\n",
       "      <td>0.99913</td>\n",
       "      <td>0.00</td>\n",
       "    </tr>\n",
       "  </tbody>\n",
       "</table>\n",
       "</div>"
      ],
      "text/plain": [
       "       0      1        2     3\n",
       "0   0.00  32.00  0.99987 -0.74\n",
       "1   3.98  39.16  1.00000 -0.87\n",
       "2   5.00  41.00  0.99999 -0.86\n",
       "3  10.00  50.00  0.99973 -0.60\n",
       "4  15.00  59.00  0.99913  0.00"
      ]
     },
     "execution_count": 45,
     "metadata": {},
     "output_type": "execute_result"
    }
   ],
   "source": [
    "data=pd.read_csv(\"temp_density.csv\", header=None)\n",
    "data.head()"
   ]
  },
  {
   "cell_type": "code",
   "execution_count": 46,
   "metadata": {
    "collapsed": false
   },
   "outputs": [
    {
     "data": {
      "text/plain": [
       "<matplotlib.axes._subplots.AxesSubplot at 0x109f63950>"
      ]
     },
     "execution_count": 46,
     "metadata": {},
     "output_type": "execute_result"
    },
    {
     "data": {
      "image/png": "[encoded data removed]",
      "text/plain": [
       "<matplotlib.figure.Figure at 0x109c461d0>"
      ]
     },
     "metadata": {},
     "output_type": "display_data"
    }
   ],
   "source": [
    "df = pd.DataFrame(data)\n",
    "df.plot.scatter(x=1, y=3)"
   ]
  },
  {
   "cell_type": "code",
   "execution_count": 47,
   "metadata": {
    "collapsed": false
   },
   "outputs": [],
   "source": [
    "def get_equation(xdata, ydata, order=3):\n",
    "    qout = np.polyfit(xdata, ydata, order)\n",
    "    print(np.poly1d(qout))\n",
    "    return qout"
   ]
  },
  {
   "cell_type": "code",
   "execution_count": 48,
   "metadata": {
    "collapsed": true
   },
   "outputs": [],
   "source": [
    "def graph(xdata, xlim, ydata, ylim, qout):\n",
    "    xp = np.linspace(*xlim, num=1500)\n",
    "    fn = np.poly1d(qout)\n",
    "    pxp = fn(xp)\n",
    "\n",
    "    plt.plot(xdata, ydata, '.', xp, pxp, '-')\n",
    "    plt.xlim(*xlim)\n",
    "    plt.ylim(*ylim)\n",
    "    plt.xlabel('x')\n",
    "    plt.ylabel('y', rotation='horizontal')\n",
    "    plt.grid(True)\n",
    "    plt.show()"
   ]
  },
  {
   "cell_type": "code",
   "execution_count": 52,
   "metadata": {
    "collapsed": false
   },
   "outputs": [
    {
     "name": "stdout",
     "output_type": "stream",
     "text": [
      "            3            2\n",
      "-2.628e-06 x + 0.002058 x - 0.1327 x + 1.314\n"
     ]
    }
   ],
   "source": [
    "xdata = df[1] - CENTER\n",
    "ydata = df[3]\n",
    "\n",
    "qout = get_equation(xdata, ydata, 3)"
   ]
  },
  {
   "cell_type": "code",
   "execution_count": 72,
   "metadata": {
    "collapsed": false
   },
   "outputs": [
    {
     "name": "stdout",
     "output_type": "stream",
     "text": [
      "Polynomial Fit Coefficients\n",
      "Calculated vs Original\n",
      "C4 = -2.627657e-06 vs -2.627634e-06\n",
      "C3 =  2.057802e-03 vs  2.057793e-03\n",
      "C2 = -0.132676     vs -0.132674\n",
      "C1 =  1.313507     vs  1.313454\n"
     ]
    }
   ],
   "source": [
    "print(\"Polynomial Fit Coefficients\")\n",
    "print(\"Calculated vs Original\")\n",
    "print(\"C4 = {: 0.6e} vs {: 0.6e}\".format(qout[0], orig[0]))\n",
    "print(\"C3 = {: 0.6e} vs {: 0.6e}\".format(qout[1], orig[1]))\n",
    "print(\"C2 = {: 0.6f}     vs {: 0.6f}\".format(qout[2], orig[2]))\n",
    "print(\"C1 = {: 0.6f}     vs {: 0.6f}\".format(qout[3], orig[3]))"
   ]
  },
  {
   "cell_type": "code",
   "execution_count": 69,
   "metadata": {
    "collapsed": false
   },
   "outputs": [
    {
     "data": {
      "image/png": "[encoded data removed]",
      "text/plain": [
       "<matplotlib.figure.Figure at 0x109bd9c50>"
      ]
     },
     "metadata": {},
     "output_type": "display_data"
    }
   ],
   "source": [
    "graph(xdata, [0, 212], ydata, [-1.0, 45], qout)"
   ]
  },
  {
   "cell_type": "code",
   "execution_count": 70,
   "metadata": {
    "collapsed": false
   },
   "outputs": [
    {
     "name": "stdout",
     "output_type": "stream",
     "text": [
      "Data Fit to Polynomial\n",
      "[ -0.91102999  -0.88421961  -0.84813311  -0.50423099   0.10918302\n",
      "   0.6018159    0.98061555   2.09857322   3.45156267   5.02809051\n",
      "   6.07652441   6.81666339   8.80578793  10.98397075  13.3397185\n",
      "  15.86153779  18.53793526  21.35741753  24.30849124  27.37966301\n",
      "  30.55943947  33.83632725  37.19883299  40.6354633 ]\n"
     ]
    }
   ],
   "source": [
    "fn = np.poly1d(qout)\n",
    "print(\"Data Fit to Polynomial\")\n",
    "print(fn(xdata))"
   ]
  },
  {
   "cell_type": "code",
   "execution_count": 71,
   "metadata": {
    "collapsed": false
   },
   "outputs": [
    {
     "name": "stdout",
     "output_type": "stream",
     "text": [
      "Difference between Polynomial and Original\n",
      "0    -0.171030\n",
      "1    -0.014220\n",
      "2     0.011867\n",
      "3     0.095769\n",
      "4     0.109183\n",
      "5     0.091816\n",
      "6     0.080616\n",
      "7     0.038573\n",
      "8    -0.008437\n",
      "9    -0.041909\n",
      "10   -0.063476\n",
      "11   -0.073337\n",
      "12   -0.074212\n",
      "13   -0.076029\n",
      "14   -0.060282\n",
      "15   -0.028462\n",
      "16   -0.002065\n",
      "17    0.037418\n",
      "18    0.068491\n",
      "19    0.079663\n",
      "20    0.079439\n",
      "21    0.046327\n",
      "22   -0.011167\n",
      "23   -0.114537\n",
      "Name: 3, dtype: float64\n"
     ]
    }
   ],
   "source": [
    "print(\"Difference between Polynomial and Original\")\n",
    "print(fn(xdata) - df[3])"
   ]
  },
  {
   "cell_type": "code",
   "execution_count": null,
   "metadata": {
    "collapsed": true
   },
   "outputs": [],
   "source": []
  }
 ],
 "metadata": {
  "kernelspec": {
   "display_name": "Python 2",
   "language": "python",
   "name": "python2"
  },
  "language_info": {
   "codemirror_mode": {
    "name": "ipython",
    "version": 2
   },
   "file_extension": ".py",
   "mimetype": "text/x-python",
   "name": "python",
   "nbconvert_exporter": "python",
   "pygments_lexer": "ipython2",
   "version": "2.7.12"
  }
 },
 "nbformat": 4,
 "nbformat_minor": 0
}

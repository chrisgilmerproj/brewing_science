{
 "cells": [
  {
   "cell_type": "code",
   "execution_count": 1,
   "metadata": {
    "collapsed": false
   },
   "outputs": [
    {
     "data": {
      "text/plain": [
       "u'0.18.1'"
      ]
     },
     "execution_count": 1,
     "metadata": {},
     "output_type": "execute_result"
    }
   ],
   "source": [
    "import pandas as pd\n",
    "from scipy import optimize\n",
    "import numpy as np\n",
    "import matplotlib.pyplot as plt\n",
    "pd.__version__"
   ]
  },
  {
   "cell_type": "code",
   "execution_count": 2,
   "metadata": {
    "collapsed": false
   },
   "outputs": [],
   "source": [
    "%matplotlib inline"
   ]
  },
  {
   "cell_type": "markdown",
   "metadata": {},
   "source": [
    "Brew By the Numbers - Add Up What’s in Your Beer\n",
    "ZYMURGY Summer 1995\n",
    "\n",
    "    Corrected SG = density of wort at T / density of water at T\n",
    "\n",
    "                 =   density of wort at T     density of water at 60F\n",
    "                   ------------------------ x -----------------------\n",
    "                   density of water at 60 F    density of water at T\n",
    "\n",
    "                 = (Measured SG at T) (SG correction factor)\n",
    "\n",
    "This correction factor is solely a function of the density of water at\n",
    "various temperatures, which is well-known. I made a curve fit to some data from\n",
    "a couple of sources (De Clerck, Weast) that yielded the SG correction factor as\n",
    "a function of measuring temperature (T in Fahrenheit):\n",
    "\n",
    "    SG correction factor = 1.00130346 – 1.34722124 x 10-4 T + 2.04052596 x 10-6 T2 – 2.32820948 x 10-9 T3\n",
    "\n",
    "This equation is accurate over the entire region from 32 degrees F to 212\n",
    "degrees F."
   ]
  },
  {
   "cell_type": "code",
   "execution_count": 23,
   "metadata": {
    "collapsed": true
   },
   "outputs": [],
   "source": [
    "# Original Coefficients\n",
    "orig = [ -2.32820948e-9, 2.04052596e-6, -1.34722124e-4, 1.00130346]"
   ]
  },
  {
   "cell_type": "markdown",
   "metadata": {},
   "source": [
    "The data below was obtained using the \"Handbook of Chemistry and Physics (CRC)\"\n",
    "and is valid for a temperature range between 0 and 212F.\n",
    "    \n",
    "        Temp (C)  Temp (F)  Density  Correction relative to 59F\n",
    "        -------   --------  -------  --------------------------\n",
    "        0          32      0.99987      -0.74\n",
    "        3.98       39.16   1.00000      -0.87\n",
    "        5          41      0.99999      -0.86\n",
    "        10         50      0.99973      -0.6\n",
    "        15         59      0.99913      0\n",
    "        18         64.4    0.99862      0.51\n",
    "        20         68      0.99823      0.9\n",
    "        25         77      0.99707      2.06\n",
    "        30         86      0.99567      3.46\n",
    "        35         95      0.99406      5.07\n",
    "        38         100.4   0.99299      6.14\n",
    "        40         104     0.99224      6.89\n",
    "        45         113     0.99025      8.88\n",
    "        50         122     0.98807      11.06\n",
    "        55         131     0.98573      13.4\n",
    "        60         140     0.98324      15.89\n",
    "        65         149     0.98059      18.54\n",
    "        70         158     0.97781      21.32\n",
    "        75         167     0.97489      24.24\n",
    "        80         176     0.97183      27.3\n",
    "        85         185     0.96865      30.48\n",
    "        90         194     0.96534      33.79\n",
    "        95         203     0.96192      37.21\n",
    "        100        212     0.95838      40.75"
   ]
  },
  {
   "cell_type": "code",
   "execution_count": 24,
   "metadata": {
    "collapsed": false
   },
   "outputs": [
    {
     "data": {
      "text/html": [
       "<div>\n",
       "<table border=\"1\" class=\"dataframe\">\n",
       "  <thead>\n",
       "    <tr style=\"text-align: right;\">\n",
       "      <th></th>\n",
       "      <th>0</th>\n",
       "      <th>1</th>\n",
       "      <th>2</th>\n",
       "      <th>3</th>\n",
       "    </tr>\n",
       "  </thead>\n",
       "  <tbody>\n",
       "    <tr>\n",
       "      <th>0</th>\n",
       "      <td>0.00</td>\n",
       "      <td>32.00</td>\n",
       "      <td>0.99987</td>\n",
       "      <td>-0.74</td>\n",
       "    </tr>\n",
       "    <tr>\n",
       "      <th>1</th>\n",
       "      <td>3.98</td>\n",
       "      <td>39.16</td>\n",
       "      <td>1.00000</td>\n",
       "      <td>-0.87</td>\n",
       "    </tr>\n",
       "    <tr>\n",
       "      <th>2</th>\n",
       "      <td>5.00</td>\n",
       "      <td>41.00</td>\n",
       "      <td>0.99999</td>\n",
       "      <td>-0.86</td>\n",
       "    </tr>\n",
       "    <tr>\n",
       "      <th>3</th>\n",
       "      <td>10.00</td>\n",
       "      <td>50.00</td>\n",
       "      <td>0.99973</td>\n",
       "      <td>-0.60</td>\n",
       "    </tr>\n",
       "    <tr>\n",
       "      <th>4</th>\n",
       "      <td>15.00</td>\n",
       "      <td>59.00</td>\n",
       "      <td>0.99913</td>\n",
       "      <td>0.00</td>\n",
       "    </tr>\n",
       "  </tbody>\n",
       "</table>\n",
       "</div>"
      ],
      "text/plain": [
       "       0      1        2     3\n",
       "0   0.00  32.00  0.99987 -0.74\n",
       "1   3.98  39.16  1.00000 -0.87\n",
       "2   5.00  41.00  0.99999 -0.86\n",
       "3  10.00  50.00  0.99973 -0.60\n",
       "4  15.00  59.00  0.99913  0.00"
      ]
     },
     "execution_count": 24,
     "metadata": {},
     "output_type": "execute_result"
    }
   ],
   "source": [
    "data=pd.read_csv(\"temp_density.csv\", header=None)\n",
    "data.head()"
   ]
  },
  {
   "cell_type": "code",
   "execution_count": 25,
   "metadata": {
    "collapsed": false
   },
   "outputs": [
    {
     "data": {
      "text/plain": [
       "<matplotlib.axes._subplots.AxesSubplot at 0x115988910>"
      ]
     },
     "execution_count": 25,
     "metadata": {},
     "output_type": "execute_result"
    },
    {
     "data": {
      "image/png": "[encoded data removed]",
      "text/plain": [
       "<matplotlib.figure.Figure at 0x1154d2cd0>"
      ]
     },
     "metadata": {},
     "output_type": "display_data"
    }
   ],
   "source": [
    "df = pd.DataFrame(data)\n",
    "df.plot.scatter(x=1, y=2)"
   ]
  },
  {
   "cell_type": "code",
   "execution_count": 26,
   "metadata": {
    "collapsed": true
   },
   "outputs": [],
   "source": [
    "def graph(xdata, xlim, ydata, ylim, qout):\n",
    "    xp = np.linspace(*xlim, num=1500)\n",
    "    fn = np.poly1d(qout)\n",
    "    print(fn)\n",
    "    pxp = fn(xp)\n",
    "\n",
    "    plt.plot(xdata, ydata, '.', xp, pxp, '-')\n",
    "    plt.xlim(*xlim)\n",
    "    plt.ylim(*ylim)\n",
    "    plt.xlabel('x')\n",
    "    plt.ylabel('y', rotation='horizontal')\n",
    "    plt.grid(True)\n",
    "    plt.show()"
   ]
  },
  {
   "cell_type": "code",
   "execution_count": 27,
   "metadata": {
    "collapsed": false
   },
   "outputs": [
    {
     "name": "stdout",
     "output_type": "stream",
     "text": [
      "           3             2\n",
      "2.628e-09 x - 2.058e-06 x + 0.0001327 x + 0.9978\n"
     ]
    }
   ],
   "source": [
    "xdata = df[1]\n",
    "ydata = df[2]\n",
    "\n",
    "qout = np.polyfit(xdata, ydata, 3)\n",
    "print(np.poly1d(qout))"
   ]
  },
  {
   "cell_type": "code",
   "execution_count": 28,
   "metadata": {
    "collapsed": false
   },
   "outputs": [
    {
     "name": "stdout",
     "output_type": "stream",
     "text": [
      "Polynomial Fit Coefficients\n",
      "Calculated vs Original\n",
      "C4 =  2.627657e-09 vs -2.328209e-09\n",
      "C3 = -2.057802e-06 vs  2.040526e-06\n",
      "C2 =  0.000133     vs -0.000135\n",
      "C1 =  0.997816     vs  1.001303\n",
      "\n",
      "Polynomial Fit Coefficients (with Significant Digits)\n",
      "Calculated vs Original\n",
      "C4 =  2.6277e-09 vs -2.3282e-09\n",
      "C3 = -2.0578e-06 vs  2.0405e-06\n",
      "C2 =  0.0001     vs -0.0001\n",
      "C1 =  0.9978     vs  1.0013\n",
      "\n",
      "The coefficients are seen to be identical with Sig Figs\n"
     ]
    }
   ],
   "source": [
    "print(\"Polynomial Fit Coefficients\")\n",
    "print(\"Calculated vs Original\")\n",
    "print(\"C4 = {: 0.6e} vs {: 0.6e}\".format(qout[0], orig[0]))\n",
    "print(\"C3 = {: 0.6e} vs {: 0.6e}\".format(qout[1], orig[1]))\n",
    "print(\"C2 = {: 0.6f}     vs {: 0.6f}\".format(qout[2], orig[2]))\n",
    "print(\"C1 = {: 0.6f}     vs {: 0.6f}\".format(qout[3], orig[3]))\n",
    "print(\"\")\n",
    "print(\"Polynomial Fit Coefficients (with Significant Digits)\")\n",
    "print(\"Calculated vs Original\")\n",
    "print(\"C4 = {: 0.4e} vs {: 0.4e}\".format(qout[0], orig[0]))\n",
    "print(\"C3 = {: 0.4e} vs {: 0.4e}\".format(qout[1], orig[1]))\n",
    "print(\"C2 = {: 0.4f}     vs {: 0.4f}\".format(qout[2], orig[2]))\n",
    "print(\"C1 = {: 0.4f}     vs {: 0.4f}\".format(qout[3], orig[3]))\n",
    "print(\"\")\n",
    "print(\"The coefficients are seen to be identical with Sig Figs\")"
   ]
  },
  {
   "cell_type": "code",
   "execution_count": 29,
   "metadata": {
    "collapsed": false
   },
   "outputs": [
    {
     "name": "stdout",
     "output_type": "stream",
     "text": [
      "           3             2\n",
      "2.628e-09 x - 2.058e-06 x + 0.0001327 x + 0.9978\n"
     ]
    },
    {
     "data": {
      "image/png": "[encoded data removed]",
      "text/plain": [
       "<matplotlib.figure.Figure at 0x115be7390>"
      ]
     },
     "metadata": {},
     "output_type": "display_data"
    }
   ],
   "source": [
    "graph(xdata, [0, 212], ydata, [0.94, 1.02], qout)"
   ]
  },
  {
   "cell_type": "code",
   "execution_count": 34,
   "metadata": {
    "collapsed": false
   },
   "outputs": [
    {
     "name": "stdout",
     "output_type": "stream",
     "text": [
      "            3             2\n",
      "-2.328e-09 x + 2.041e-06 x - 0.0001347 x + 1.001\n"
     ]
    },
    {
     "data": {
      "image/png": "[encoded data removed]",
      "text/plain": [
       "<matplotlib.figure.Figure at 0x115dc99d0>"
      ]
     },
     "metadata": {},
     "output_type": "display_data"
    }
   ],
   "source": [
    "graph(xdata, [0, 212], ydata, [0.94, 1.05], np.poly1d(orig))"
   ]
  },
  {
   "cell_type": "code",
   "execution_count": 87,
   "metadata": {
    "collapsed": false
   },
   "outputs": [
    {
     "name": "stdout",
     "output_type": "stream",
     "text": [
      "Data Fit to Polynomial\n",
      "[ 1.00004103  1.00001422  0.99997813  0.99963423  0.99902082  0.99852818\n",
      "  0.99814938  0.99703143  0.99567844  0.99410191  0.99305348  0.99231334\n",
      "  0.99032421  0.98814603  0.98579028  0.98326846  0.98059206  0.97777258\n",
      "  0.97482151  0.97175034  0.96857056  0.96529367  0.96193117  0.95849454]\n"
     ]
    }
   ],
   "source": [
    "fn = np.poly1d(qout)\n",
    "print(\"Data Fit to Polynomial\")\n",
    "print(fn(xdata))"
   ]
  },
  {
   "cell_type": "code",
   "execution_count": 88,
   "metadata": {
    "collapsed": false
   },
   "outputs": [
    {
     "name": "stdout",
     "output_type": "stream",
     "text": [
      "Difference between Polynomial and Original\n",
      "0     0.000171\n",
      "1     0.000014\n",
      "2    -0.000012\n",
      "3    -0.000096\n",
      "4    -0.000109\n",
      "5    -0.000092\n",
      "6    -0.000081\n",
      "7    -0.000039\n",
      "8     0.000008\n",
      "9     0.000042\n",
      "10    0.000063\n",
      "11    0.000073\n",
      "12    0.000074\n",
      "13    0.000076\n",
      "14    0.000060\n",
      "15    0.000028\n",
      "16    0.000002\n",
      "17   -0.000037\n",
      "18   -0.000068\n",
      "19   -0.000080\n",
      "20   -0.000079\n",
      "21   -0.000046\n",
      "22    0.000011\n",
      "23    0.000115\n",
      "Name: 2, dtype: float64\n"
     ]
    }
   ],
   "source": [
    "print(\"Difference between Polynomial and Original\")\n",
    "print(fn(xdata) - df[2])"
   ]
  }
 ],
 "metadata": {
  "kernelspec": {
   "display_name": "Python 2",
   "language": "python",
   "name": "python2"
  },
  "language_info": {
   "codemirror_mode": {
    "name": "ipython",
    "version": 2
   },
   "file_extension": ".py",
   "mimetype": "text/x-python",
   "name": "python",
   "nbconvert_exporter": "python",
   "pygments_lexer": "ipython2",
   "version": "2.7.12"
  }
 },
 "nbformat": 4,
 "nbformat_minor": 0
}

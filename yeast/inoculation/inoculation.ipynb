{
 "cells": [
  {
   "cell_type": "code",
   "execution_count": 2,
   "metadata": {
    "collapsed": false
   },
   "outputs": [
    {
     "data": {
      "text/plain": [
       "u'0.18.1'"
      ]
     },
     "execution_count": 2,
     "metadata": {},
     "output_type": "execute_result"
    }
   ],
   "source": [
    "import pandas as pd\n",
    "from scipy import optimize\n",
    "import numpy as np\n",
    "import matplotlib.pyplot as plt\n",
    "pd.__version__"
   ]
  },
  {
   "cell_type": "code",
   "execution_count": 3,
   "metadata": {
    "collapsed": false
   },
   "outputs": [],
   "source": [
    "%matplotlib inline"
   ]
  },
  {
   "cell_type": "code",
   "execution_count": 4,
   "metadata": {
    "collapsed": false
   },
   "outputs": [
    {
     "data": {
      "text/html": [
       "<div>\n",
       "<table border=\"1\" class=\"dataframe\">\n",
       "  <thead>\n",
       "    <tr style=\"text-align: right;\">\n",
       "      <th></th>\n",
       "      <th>0</th>\n",
       "      <th>1</th>\n",
       "    </tr>\n",
       "  </thead>\n",
       "  <tbody>\n",
       "    <tr>\n",
       "      <th>0</th>\n",
       "      <td>5.0</td>\n",
       "      <td>5.00</td>\n",
       "    </tr>\n",
       "    <tr>\n",
       "      <th>1</th>\n",
       "      <td>6.0</td>\n",
       "      <td>4.50</td>\n",
       "    </tr>\n",
       "    <tr>\n",
       "      <th>2</th>\n",
       "      <td>7.4</td>\n",
       "      <td>4.00</td>\n",
       "    </tr>\n",
       "    <tr>\n",
       "      <th>3</th>\n",
       "      <td>9.0</td>\n",
       "      <td>3.57</td>\n",
       "    </tr>\n",
       "    <tr>\n",
       "      <th>4</th>\n",
       "      <td>10.0</td>\n",
       "      <td>3.36</td>\n",
       "    </tr>\n",
       "  </tbody>\n",
       "</table>\n",
       "</div>"
      ],
      "text/plain": [
       "      0     1\n",
       "0   5.0  5.00\n",
       "1   6.0  4.50\n",
       "2   7.4  4.00\n",
       "3   9.0  3.57\n",
       "4  10.0  3.36"
      ]
     },
     "execution_count": 4,
     "metadata": {},
     "output_type": "execute_result"
    }
   ],
   "source": [
    "data=pd.read_csv(\"inoculation.csv\", header=None)\n",
    "data.head()"
   ]
  },
  {
   "cell_type": "code",
   "execution_count": 7,
   "metadata": {
    "collapsed": false
   },
   "outputs": [
    {
     "data": {
      "text/plain": [
       "<matplotlib.axes._subplots.AxesSubplot at 0x1095b8110>"
      ]
     },
     "execution_count": 7,
     "metadata": {},
     "output_type": "execute_result"
    },
    {
     "data": {
      "image/png": "[encoded data removed]",
      "text/plain": [
       "<matplotlib.figure.Figure at 0x109318610>"
      ]
     },
     "metadata": {},
     "output_type": "display_data"
    },
    {
     "data": {
      "image/png": "[encoded data removed]",
      "text/plain": [
       "<matplotlib.figure.Figure at 0x1093187d0>"
      ]
     },
     "metadata": {},
     "output_type": "display_data"
    }
   ],
   "source": [
    "df = pd.DataFrame(data)\n",
    "df.plot.scatter(x=0, y=1)\n",
    "df.plot.scatter(x=1, y=0)"
   ]
  },
  {
   "cell_type": "code",
   "execution_count": 22,
   "metadata": {
    "collapsed": true
   },
   "outputs": [],
   "source": [
    "def fitfunc(p, x):\n",
    "    return p[0] + p[1] * np.power(x, p[2])\n",
    "\n",
    "\n",
    "def errfunc(p, x, y):\n",
    "    return y - fitfunc(p, x)"
   ]
  },
  {
   "cell_type": "code",
   "execution_count": 51,
   "metadata": {
    "collapsed": false
   },
   "outputs": [],
   "source": [
    "def get_equation(xdata, ydata, estimate):\n",
    "\n",
    "    qout, cov, infodict, mesg, ier = optimize.leastsq(errfunc,\n",
    "                                                      estimate,\n",
    "                                                      args=(xdata, ydata),\n",
    "                                                      maxfev=1000,\n",
    "                                                      full_output=True)\n",
    "\n",
    "    out = qout[:]\n",
    "    out[0] = qout[0]\n",
    "    out[1] = qout[1]\n",
    "    out[2] = qout[2]\n",
    "    print(\"a = {:0.6f}, b = {:0.6f}, c = {:0.6f}\".format(out[0], out[1], out[2]))\n",
    "    print(\"{:0.6f} + {:0.6f} * x ^ {:0.6f}\".format(out[0], out[1], out[2]))\n",
    "\n",
    "    ss_err = (infodict['fvec'] ** 2).sum()\n",
    "    ss_tot = ((ydata - ydata.mean()) ** 2).sum()\n",
    "    rsquared = 1 - (ss_err / ss_tot)\n",
    "    print(\"R2: {:0.6f}\".format(rsquared))\n",
    "    return qout"
   ]
  },
  {
   "cell_type": "code",
   "execution_count": 52,
   "metadata": {
    "collapsed": true
   },
   "outputs": [],
   "source": [
    "def graph(xdata, xlim, ydata, ylim, fn=fitfunc):\n",
    "    xp = np.linspace(*xlim, num=1500)\n",
    "    pxp = fn(qout, xp)\n",
    "\n",
    "    plt.plot(xdata, ydata, '.', xp, pxp, '-')\n",
    "    plt.xlim(*xlim)\n",
    "    plt.ylim(*ylim)\n",
    "    plt.xlabel('x')\n",
    "    plt.ylabel('y', rotation='horizontal')\n",
    "    plt.grid(True)\n",
    "    plt.show()"
   ]
  },
  {
   "cell_type": "code",
   "execution_count": 53,
   "metadata": {
    "collapsed": false
   },
   "outputs": [
    {
     "name": "stdout",
     "output_type": "stream",
     "text": [
      "a = -0.999499, b = 12.547938, c = -0.459486\n",
      "-0.999499 + 12.547938 * x ^ -0.459486\n",
      "R2: 0.999990\n"
     ]
    }
   ],
   "source": [
    "xdata = df[0]\n",
    "ydata = df[1]\n",
    "\n",
    "qout = get_equation(xdata, ydata, [max(ydata), -1, -0.46])"
   ]
  },
  {
   "cell_type": "code",
   "execution_count": 54,
   "metadata": {
    "collapsed": false
   },
   "outputs": [
    {
     "data": {
      "image/png": "[encoded data removed]",
      "text/plain": [
       "<matplotlib.figure.Figure at 0x109e1bdd0>"
      ]
     },
     "metadata": {},
     "output_type": "display_data"
    }
   ],
   "source": [
    "graph(xdata, [0, 200], ydata, [0, 5])"
   ]
  },
  {
   "cell_type": "code",
   "execution_count": 55,
   "metadata": {
    "collapsed": false
   },
   "outputs": [],
   "source": [
    "def new_fit_func(qout, x):\n",
    "    a, b, c = qout\n",
    "    return np.power(10, np.log10(b/(x-a))/-c)"
   ]
  },
  {
   "cell_type": "code",
   "execution_count": 56,
   "metadata": {
    "collapsed": false
   },
   "outputs": [
    {
     "data": {
      "image/png": "[encoded data removed]",
      "text/plain": [
       "<matplotlib.figure.Figure at 0x109e3fbd0>"
      ]
     },
     "metadata": {},
     "output_type": "display_data"
    }
   ],
   "source": [
    "xdata = df[1]\n",
    "ydata = df[0]\n",
    "graph(xdata, [0, 5], ydata, [0, 200], fn=new_fit_func)"
   ]
  },
  {
   "cell_type": "code",
   "execution_count": 57,
   "metadata": {
    "collapsed": false
   },
   "outputs": [
    {
     "name": "stdout",
     "output_type": "stream",
     "text": [
      "[ 19.3085734    6.16655591]\n",
      "[ 2.22  4.44]\n"
     ]
    }
   ],
   "source": [
    "x = np.array([2.22, 4.44])\n",
    "xout = new_fit_func(qout, x)\n",
    "print(xout)\n",
    "print(fitfunc(qout, xout))"
   ]
  },
  {
   "cell_type": "code",
   "execution_count": null,
   "metadata": {
    "collapsed": true
   },
   "outputs": [],
   "source": []
  },
  {
   "cell_type": "code",
   "execution_count": null,
   "metadata": {
    "collapsed": true
   },
   "outputs": [],
   "source": []
  }
 ],
 "metadata": {
  "kernelspec": {
   "display_name": "Python 2",
   "language": "python",
   "name": "python2"
  },
  "language_info": {
   "codemirror_mode": {
    "name": "ipython",
    "version": 2
   },
   "file_extension": ".py",
   "mimetype": "text/x-python",
   "name": "python",
   "nbconvert_exporter": "python",
   "pygments_lexer": "ipython2",
   "version": "2.7.12"
  }
 },
 "nbformat": 4,
 "nbformat_minor": 0
}
